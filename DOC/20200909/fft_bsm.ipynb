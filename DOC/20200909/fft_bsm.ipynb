{
  "nbformat": 4,
  "nbformat_minor": 0,
  "metadata": {
    "colab": {
      "name": "Untitled41.ipynb",
      "provenance": [],
      "authorship_tag": "ABX9TyOJrC/0eBvLZwn1wSI8TCM/",
      "include_colab_link": true
    },
    "kernelspec": {
      "name": "python3",
      "display_name": "Python 3"
    }
  },
  "cells": [
    {
      "cell_type": "markdown",
      "metadata": {
        "id": "view-in-github",
        "colab_type": "text"
      },
      "source": [
        "<a href=\"https://colab.research.google.com/github/yimuzy/Independent-Study/blob/master/DOC/20200909/fft_bsm.ipynb\" target=\"_parent\"><img src=\"https://colab.research.google.com/assets/colab-badge.svg\" alt=\"Open In Colab\"/></a>"
      ]
    },
    {
      "cell_type": "code",
      "metadata": {
        "id": "SesP9GklfkIl",
        "colab_type": "code",
        "colab": {}
      },
      "source": [
        "import numpy as np\n",
        "\n",
        "class BSM:\n",
        "    def __init__(self, S0, r, sigma):\n",
        "        self.S0 = S0\n",
        "        self.r = r\n",
        "        self.sigma = sigma\n",
        "        \n",
        "    #characteristic function for $ln S_T$\n",
        "    def charfun(self, T, u):\n",
        "        s=self.S0\n",
        "        r=self.r\n",
        "        sigma=self.sigma\n",
        "        chf=np.exp( T* ( (np.log(s)/T+r-0.5*sigma**2)*1j*u -0.5*sigma**2*u** 2))\n",
        "        return chf\n",
        "\n",
        "    def alpha_charfun(self, a, T, u):\n",
        "        s=self.S0\n",
        "        r=self.r\n",
        "        sigma=self.sigma\n",
        "        al_chf=np.exp(-r*T) * self.charfun(T, (u-(a+1)*1j)) /(a**2+a-u**2+1j*u*(2*a+1))   \n",
        "        return al_chf\n",
        "\n",
        "    def fft_bsm(self, K,T):\n",
        "        s=self.S0\n",
        "        r=self.r\n",
        "        sigma=self.sigma\n",
        "        k=np.log(K)\n",
        "        a=1.5\n",
        "        N=2**12\n",
        "        eta=0.25\n",
        "        lambda1=2*np.pi/(N*eta)\n",
        "        b=0.5*N*lambda1\n",
        "        ku=np.asarray( [-b+lambda1*i for i in range(N)])\n",
        "\n",
        "        delt = np.zeros(N, dtype=np.float)\n",
        "        delt[0] = 1\n",
        "        j = np.arange(1, N + 1, 1)\n",
        "        W = eta*(3 + (-1) ** j - delt) / 3\n",
        "        v=np.asarray([i*eta for i in range(N)])\n",
        "        psi=np.asarray([self.alpha_charfun(a, T, vj) for vj in v])\n",
        "        Ffunc=np.zeros(N, dtype=np.float)\n",
        "        for i in range(N):\n",
        "          u=i\n",
        "          para=np.asarray([np.exp(-1j*j*u*2*np.pi/N) for j in range(N)])\n",
        "          Ffunc[i]=(np.sum(psi*np.exp(1j*b*v)*W*para)).real\n",
        "        c=np.exp(-a*ku)*Ffunc/np.pi\n",
        "\n",
        "        return np.exp(ku),c"
      ],
      "execution_count": 11,
      "outputs": []
    },
    {
      "cell_type": "code",
      "metadata": {
        "id": "L9pAGta3f9VU",
        "colab_type": "code",
        "colab": {
          "base_uri": "https://localhost:8080/",
          "height": 34
        },
        "outputId": "b8f49d0b-80cc-4a58-e57a-ca54bf8a4f72"
      },
      "source": [
        "EC=BSM(100,0.0457,0.2)\n",
        "k,c= EC.fft_bsm(110,1)\n",
        "print(np.interp(110,k,c))"
      ],
      "execution_count": 12,
      "outputs": [
        {
          "output_type": "stream",
          "text": [
            "5.874387976901411\n"
          ],
          "name": "stdout"
        }
      ]
    },
    {
      "cell_type": "code",
      "metadata": {
        "id": "-kLPIE-ogEB4",
        "colab_type": "code",
        "colab": {}
      },
      "source": [
        ""
      ],
      "execution_count": null,
      "outputs": []
    }
  ]
}