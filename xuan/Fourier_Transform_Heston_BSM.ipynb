{
  "nbformat": 4,
  "nbformat_minor": 0,
  "metadata": {
    "colab": {
      "name": "Fourier Transform Heston BSM.ipynb",
      "provenance": [],
      "collapsed_sections": [],
      "include_colab_link": true
    },
    "kernelspec": {
      "name": "python3",
      "display_name": "Python 3"
    }
  },
  "cells": [
    {
      "cell_type": "markdown",
      "metadata": {
        "id": "view-in-github",
        "colab_type": "text"
      },
      "source": [
        "<a href=\"https://colab.research.google.com/github/yimuzy/Independent-Study/blob/master/xuan/Fourier_Transform_Heston_BSM.ipynb\" target=\"_parent\"><img src=\"https://colab.research.google.com/assets/colab-badge.svg\" alt=\"Open In Colab\"/></a>"
      ]
    },
    {
      "cell_type": "markdown",
      "metadata": {
        "id": "PXHqcaIOMfmE",
        "colab_type": "text"
      },
      "source": [
        "BSM Model\n",
        "\n"
      ]
    },
    {
      "cell_type": "markdown",
      "metadata": {
        "id": "B574JxEaF4Vj",
        "colab_type": "text"
      },
      "source": [
        "Black-Scholes Model for Call Option Pricing\n",
        "$$\n",
        "C = SN(d_1)-Ke^{-rT}N(d_2) \\\\\n",
        "d_1 = \\frac{1}{\\sigma\\sqrt{T-t}}[ln(\\frac{S_t}{K})+(r+\\frac{\\sigma^2}{2})(T-t)] \\\\\n",
        "d_2 = d_1 - \\sigma\\sqrt{T-t}\n",
        "$$"
      ]
    },
    {
      "cell_type": "code",
      "metadata": {
        "id": "-9WQ4045Mxat",
        "colab_type": "code",
        "colab": {
          "base_uri": "https://localhost:8080/",
          "height": 71
        },
        "outputId": "55eb3c02-0ec8-4d62-fa49-c31b0074bd54"
      },
      "source": [
        "import scipy.integrate as int\n",
        "import numpy as np\n",
        "import scipy as scp\n",
        "import scipy.stats as ss\n",
        "import matplotlib.pyplot as plt\n",
        "import scipy.special as scps\n",
        "from statsmodels.graphics.gofplots import qqplot\n",
        "from scipy.linalg import cholesky\n",
        "from functools import partial"
      ],
      "execution_count": null,
      "outputs": [
        {
          "output_type": "stream",
          "text": [
            "/usr/local/lib/python3.6/dist-packages/statsmodels/tools/_testing.py:19: FutureWarning: pandas.util.testing is deprecated. Use the functions in the public API at pandas.testing instead.\n",
            "  import pandas.util.testing as tm\n"
          ],
          "name": "stderr"
        }
      ]
    },
    {
      "cell_type": "code",
      "metadata": {
        "id": "QZPnKinnMuxu",
        "colab_type": "code",
        "colab": {}
      },
      "source": [
        "r= .0475; sigma=  .2; otype = 1; T = 1;"
      ],
      "execution_count": null,
      "outputs": []
    },
    {
      "cell_type": "code",
      "metadata": {
        "id": "4-6Lc_whH2lX",
        "colab_type": "code",
        "colab": {}
      },
      "source": [
        "K = []\n",
        "s0 = []\n",
        "for i in range (10000):\n",
        "  K.append(110+i)\n",
        "  s0.append(100+i)\n",
        " "
      ],
      "execution_count": null,
      "outputs": []
    },
    {
      "cell_type": "code",
      "metadata": {
        "id": "nMNXKmwHMtFy",
        "colab_type": "code",
        "colab": {
          "base_uri": "https://localhost:8080/",
          "height": 51
        },
        "outputId": "cba19759-c70e-4696-9ddb-36fb1f6f7102"
      },
      "source": [
        "%%time\n",
        "#Calculate I_1\n",
        "d1 = []\n",
        "I1 = []\n",
        "for i in range (10000):\n",
        "  d1.append((np.log(s0[i]/K[i])+(r+(sigma**2)/2)*T)/(sigma*np.sqrt(T)))\n",
        "  I1.append((1/2)+(1/np.pi)*int.quad(lambda t: (np.sin(d1[i]*t)/t)*np.exp((-1)*t**2/2),0,np.inf)[0])\n",
        "#Calculate I_2\n",
        "d2 = []\n",
        "I2 = []\n",
        "for i in range (10000):\n",
        "  d2.append((np.log(s0[i]/K[i])+(r-(sigma**2)/2)*T)/(sigma*np.sqrt(T)))\n",
        "  I2.append((1/2)+(1/np.pi)*int.quad(lambda t: (np.sin(d2[i]*t)/t)*np.exp((-1)*t**2/2),0,np.inf)[0])\n",
        "#Get Price\n",
        "C = []\n",
        "for i in range(10000):\n",
        "  C.append((s0[i]*I1[i])-K[i]*np.exp(-r*T)*I2[i])\n"
      ],
      "execution_count": null,
      "outputs": [
        {
          "output_type": "stream",
          "text": [
            "CPU times: user 7.41 s, sys: 13.3 ms, total: 7.42 s\n",
            "Wall time: 7.43 s\n"
          ],
          "name": "stdout"
        }
      ]
    },
    {
      "cell_type": "markdown",
      "metadata": {
        "id": "AHSGy_CRNECv",
        "colab_type": "text"
      },
      "source": [
        "Fourier Transform Call Option Pricing"
      ]
    },
    {
      "cell_type": "markdown",
      "metadata": {
        "id": "2rqh0x5fNMzP",
        "colab_type": "text"
      },
      "source": [
        "$$\n",
        "\\Psi_T(v) = \\int_{-\\infty}^{\\infty}e^{ivk}c_T(k)dk \\\\\n",
        "c_T(k) = exp(\\alpha k)C_T(k) \\\\\n",
        "C_T(k) = \\frac{exp(-\\alpha k)}{\\pi}\\int_{0}^{\\infty}e^{-ivk}\\psi(v)dv\n",
        "$$"
      ]
    },
    {
      "cell_type": "markdown",
      "metadata": {
        "id": "geyj_byYAS2z",
        "colab_type": "text"
      },
      "source": [
        "$$\n",
        "C_T(k) = \\frac{exp(-\\alpha k)}{\\pi}\\sum^{N}_{j=1}e^{-iv_jk}\\psi_T(v_j)\\eta\n",
        "$$"
      ]
    },
    {
      "cell_type": "markdown",
      "metadata": {
        "id": "3F1PZVisCF0c",
        "colab_type": "text"
      },
      "source": [
        "k = ln(K) </br>\n",
        "$\n",
        "\\lambda\\eta = \\frac{2\\pi}{N}\n",
        "$</br>\n",
        "$b = \\frac{1}{2}N\\lambda$</br>\n"
      ]
    },
    {
      "cell_type": "code",
      "metadata": {
        "id": "3PV5kLwp_KBE",
        "colab_type": "code",
        "colab": {}
      },
      "source": [
        "def BSM_characteristic_function(v, x0, T, r, sigma):\n",
        "    cf_value = np.exp(((x0 / T + r - 0.5 * sigma ** 2) * 1j * v\n",
        "                - 0.5 * sigma ** 2 * v ** 2) * T)\n",
        "    return cf_value\n",
        "def BSM_call_characteristic_function(v,alpha, x0, T, r, sigma):\n",
        "    res=np.exp(-r*T)/((alpha+1j*v)*(alpha+1j*v+1))\\\n",
        "        *BSM_characteristic_function((v-(alpha+1)*1j), x0, T, r, sigma)\n",
        "    return res\n",
        "    \n",
        "def SimpsonW(N,eta):\n",
        "    delt = np.zeros(N, dtype=np.float)\n",
        "    delt[0] = 1\n",
        "    j = np.arange(1, N + 1, 1)\n",
        "    SimpsonW = eta*(3 + (-1) ** j - delt) / 3\n",
        "    return SimpsonW"
      ],
      "execution_count": null,
      "outputs": []
    },
    {
      "cell_type": "code",
      "metadata": {
        "id": "APwrcfEfi5co",
        "colab_type": "code",
        "colab": {}
      },
      "source": [
        "def Fourier_Transform_Integral(S0, K, T, r, sigma):\n",
        "    k = np.log(K)\n",
        "    x0 = np.log(S0)\n",
        "    N=2**10\n",
        "    B=100\n",
        "    eta=B/N\n",
        "    W=SimpsonW(N,eta)\n",
        "    alpha=1.5\n",
        "    integral=0\n",
        "    \n",
        "    for j in range(N):\n",
        "        v_j=j*eta\n",
        "        segment=np.exp(-1j*v_j*k)*BSM_call_characteristic_function(v_j,alpha, x0, T, r, sigma)*W[j]            \n",
        "        integral+=segment.real\n",
        "\n",
        "        \n",
        "    return integral*np.exp(-alpha*k)/np.pi"
      ],
      "execution_count": null,
      "outputs": []
    },
    {
      "cell_type": "code",
      "metadata": {
        "id": "87kJeOCCbfai",
        "colab_type": "code",
        "colab": {
          "base_uri": "https://localhost:8080/",
          "height": 51
        },
        "outputId": "20891f98-2cc3-42e2-aed9-fb37fc54cb8c"
      },
      "source": [
        "%%time\n",
        "C_FT = []\n",
        "for i in range(10000):\n",
        "  S0_FT = s0[i]\n",
        "  K_FT = K[i] \n",
        "  C.append(Fourier_Transform_Integral(S0_FT, K_FT, T, r, sigma))\n"
      ],
      "execution_count": null,
      "outputs": [
        {
          "output_type": "stream",
          "text": [
            "CPU times: user 2min 14s, sys: 13.9 ms, total: 2min 14s\n",
            "Wall time: 2min 14s\n"
          ],
          "name": "stdout"
        }
      ]
    },
    {
      "cell_type": "markdown",
      "metadata": {
        "id": "gAZlYEOuj3Lo",
        "colab_type": "text"
      },
      "source": [
        "Fast Fourier Transform"
      ]
    },
    {
      "cell_type": "markdown",
      "metadata": {
        "id": "BFHiNV7eB0NQ",
        "colab_type": "text"
      },
      "source": [
        "$$\n",
        "C_T(k_u) = \\frac{exp(-\\alpha k)}{\\pi}\\sum^{N}_{j=1}e^{-i\\lambda\\eta(j-1)(u-1)}e^{ibv_j}\\psi_T(v_j)\\eta\n",
        "$$"
      ]
    },
    {
      "cell_type": "code",
      "metadata": {
        "id": "64GX4OEwGvD9",
        "colab_type": "code",
        "colab": {}
      },
      "source": [
        "def FFT(S0, K, T, r, sigma):\n",
        "    k = np.log(K)\n",
        "    x0 = np.log(S0)\n",
        "    N =2**10\n",
        "    alpha=1.5\n",
        "    \n",
        "    eta=0.15\n",
        "    lambda_ = 2 * np.pi / (N *eta)\n",
        "    beta=x0-lambda_*N/2\n",
        "    km=np.asarray([beta+i*lambda_ for i in range(N)])\n",
        "    W=SimpsonW(N,eta)\n",
        "    v=np.asarray([i*eta for i in range(N)])\n",
        "    Psi=np.asarray([BSM_call_characteristic_function(vj,alpha, x0, T, r, sigma)  for vj in v])\n",
        "    FFTFunc=Psi*np.exp(-1j*beta*v)*W\n",
        "    y=np.fft.fft(FFTFunc).real\n",
        "    cT=np.exp(-alpha*km)*y/np.pi\n",
        "    \n",
        "    return np.exp(km),cT"
      ],
      "execution_count": null,
      "outputs": []
    },
    {
      "cell_type": "code",
      "metadata": {
        "id": "R43HEDkPG1YH",
        "colab_type": "code",
        "colab": {
          "base_uri": "https://localhost:8080/",
          "height": 51
        },
        "outputId": "ca440f57-6852-43e2-cdbb-ad62112dc4c6"
      },
      "source": [
        "%%time\n",
        "C_FFT = []\n",
        "for i in range (10000):\n",
        "  S0_FFT = s0[i]\n",
        "  K_FFT = K[i]\n",
        "  k_fft,c_fft = FFT(S0_FFT, K_FFT, T, r, sigma)\n",
        "  C_FFT.append(np.interp(K_FFT, k_fft, c_fft))"
      ],
      "execution_count": null,
      "outputs": [
        {
          "output_type": "stream",
          "text": [
            "CPU times: user 2min 27s, sys: 137 ms, total: 2min 27s\n",
            "Wall time: 2min 27s\n"
          ],
          "name": "stdout"
        }
      ]
    },
    {
      "cell_type": "code",
      "metadata": {
        "id": "I1yZmgT1jJrx",
        "colab_type": "code",
        "colab": {}
      },
      "source": [
        ""
      ],
      "execution_count": null,
      "outputs": []
    },
    {
      "cell_type": "code",
      "metadata": {
        "id": "HuEJ60t9aoS6",
        "colab_type": "code",
        "colab": {}
      },
      "source": [
        ""
      ],
      "execution_count": null,
      "outputs": []
    }
  ]
}